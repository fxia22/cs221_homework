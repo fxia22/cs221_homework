{
 "cells": [
  {
   "cell_type": "markdown",
   "metadata": {},
   "source": [
    "## Problem 3\n",
    "### a.\n",
    "\n",
    "Eliminate Implies\n",
    "\n",
    "$\\neg (A \\vee B ) \\vee C$\n",
    "\n",
    "Push $\\neg$ inside\n",
    "\n",
    "$(\\neg A \\vee \\neg B) \\vee C$\n",
    "\n",
    "demorgan\n",
    "\n",
    "$(\\neg A \\vee C) \\wedge (\\neg B \\vee C)$\n",
    "\n",
    "Modus ponens\n",
    "\n",
    "$ \\frac{A, (\\neg A \\vee C)}{C} $\n",
    "$ \\frac{C, C \\wedge (\\neg B \\vee C)}{C} $\n",
    "\n",
    "### b.\n",
    "\n",
    "CNF \n",
    "$ \\frac{B \\to C}{\\neg B \\vee C}$\n",
    "\n",
    "$ \\frac{(A \\vee C) \\to D}{(\\neg A \\vee D) \\wedge (\\neg C \\vee D)} $\n",
    "\n",
    "$ \\frac{A \\vee B, \\neg B \\vee C}{A \\vee C} $\n",
    "\n",
    "We can use $A \\vee C$ to derive D.\n"
   ]
  },
  {
   "cell_type": "markdown",
   "metadata": {},
   "source": [
    "## Problem 5\n",
    "\n",
    "Because we are definiting Larger relationship being 'For every number x, the successor of x is larger than x'. To prove a number is not larger than itself meaning finding a successor to that number. \n",
    "\n",
    "For a finite set, there will be a number with no successor, which is at the end, and we couldn't prove the theorem"
   ]
  },
  {
   "cell_type": "code",
   "execution_count": null,
   "metadata": {
    "collapsed": true
   },
   "outputs": [],
   "source": []
  }
 ],
 "metadata": {
  "kernelspec": {
   "display_name": "Python 2",
   "language": "python",
   "name": "python2"
  },
  "language_info": {
   "codemirror_mode": {
    "name": "ipython",
    "version": 2
   },
   "file_extension": ".py",
   "mimetype": "text/x-python",
   "name": "python",
   "nbconvert_exporter": "python",
   "pygments_lexer": "ipython2",
   "version": "2.7.9"
  }
 },
 "nbformat": 4,
 "nbformat_minor": 0
}
