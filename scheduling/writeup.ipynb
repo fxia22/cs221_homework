{
 "cells": [
  {
   "cell_type": "markdown",
   "metadata": {},
   "source": [
    "## Problem 0\n",
    "### a.\n",
    "Variable definition for all $m$ switchs\n",
    "$ X_j, j \\in \\{1,...,m\\}$\n",
    "\n",
    "The value is the count of toggles per switch\n",
    "$ \\text{Domain}_{X_j} \\in \\mathbb Z$\n",
    "\n",
    "From the definition above, we can the sum of toggling per light bulb by iterating through all the switches\n",
    "\n",
    "$ t_i = \\sum_{j=1}^{m} X_j \\times \\{1 \\space \\text{if} \\space i \\in T_j, 0 \\space \\text{otherwise}\\} $\n",
    "\n",
    "Constrains of a light bulb is on can be treated as the sum of toggling is an odd number\n",
    "\n",
    "$ f(t_i) = (t_i \\bmod 2 == 1) $\n",
    "\n",
    "To turn all the lightbulbs on, we need all the $f$ to be 1.\n",
    "\n",
    "### b.\n",
    "#### i.\n",
    "\n",
    "There is only 2 consistent assignment, $\\{1,0,1\\}$ and $\\{0,1,0\\}$\n",
    "\n",
    "#### ii.\n",
    "We need to call backtrack 9 times to explore the entire graph in regular backtrack, and 7 times in the drawing below both solid lines and dotted lines represents a backtrack() call with regular backtract. The dotted line means this condition will be pruned using AC-3.\n",
    "\n",
    "Without AC3\n",
    "```\n",
    "backtrack with  {}\n",
    "backtrack with  {'x1': 0}\n",
    "backtrack with  {'x3': 0, 'x1': 0}\n",
    "backtrack with  {'x2': 1, 'x3': 0, 'x1': 0}\n",
    "backtrack with  {'x3': 1, 'x1': 0}\n",
    "backtrack with  {'x1': 1}\n",
    "backtrack with  {'x3': 0, 'x1': 1}\n",
    "backtrack with  {'x3': 1, 'x1': 1}\n",
    "backtrack with  {'x2': 0, 'x3': 1, 'x1': 1}\n",
    "```\n",
    "\n",
    "With AC3\n",
    "```\n",
    "backtrack with  {}\n",
    "backtrack with  {'x1': 0}\n",
    "backtrack with  {'x3': 0, 'x1': 0}\n",
    "backtrack with  {'x2': 1, 'x3': 0, 'x1': 0}\n",
    "backtrack with  {'x1': 1}\n",
    "backtrack with  {'x3': 1, 'x1': 1}\n",
    "backtrack with  {'x2': 0, 'x3': 1, 'x1': 1}\n",
    "```\n"
   ]
  },
  {
   "cell_type": "markdown",
   "metadata": {},
   "source": [
    "## Problem 2\n",
    "### a.\n",
    "\n",
    "We can construct a similar graph. \n",
    "where each \"--*--\" is a binary constraint and \"--^\" and \"--^^\" are unary constraints.\n",
    "\n",
    "    # A0--*--A1 --*-- A2 --*-- result --*-- K\n",
    "    #  |     |        |                 \n",
    "    #  *     *        *                 \n",
    "    #  |     |        |                 \n",
    "    #  X0    X1       X2                 \n",
    "Variables, Constrains:\n",
    "\n",
    "    X0, A0: A0[1] == X0\n",
    "\n",
    "Generalized:\n",
    "\n",
    "    X_i, A_i: A_i[1] == X_i\n",
    "    A_i-1, A_i: A_i[0] == A_i-1[2]\n",
    "\n",
    "Then the last bit of the equation\n",
    "\n",
    "    result, A2: result == A2[2]\n",
    "    result, k: result <= k\n",
    "  \n",
    "The domain of each variable is the unique product of all connected variables' domain to the left and below. \n",
    "e.g for A0, it's domains are (0,0,0), (1,0,1), ... (2,2,4)\n",
    "For result, the domain is simply the 2nd value of A1.\n"
   ]
  },
  {
   "cell_type": "markdown",
   "metadata": {
    "collapsed": true
   },
   "source": [
    "## Problem 3\n",
    "### c.\n",
    "\n",
    "The schedular did create a satisfactory schedule, like this one\n",
    "\n",
    "    Quarter         Units   Course\n",
    "      Aut2015       3       CS205A\n",
    "      Win2016       5       HISTORY182C\n",
    "      Spr2016       3       PHYSICS25\n",
    "      Aut2016       5       POLISCI118P\n",
    "the units requirements are met, and the class requested were produced.\n"
   ]
  },
  {
   "cell_type": "markdown",
   "metadata": {
    "collapsed": true
   },
   "source": [
    "## Extra Credit\n",
    "\n",
    "Blank :-("
   ]
  },
  {
   "cell_type": "code",
   "execution_count": null,
   "metadata": {
    "collapsed": true
   },
   "outputs": [],
   "source": []
  }
 ],
 "metadata": {
  "kernelspec": {
   "display_name": "Python 2",
   "language": "python",
   "name": "python2"
  },
  "language_info": {
   "codemirror_mode": {
    "name": "ipython",
    "version": 2
   },
   "file_extension": ".py",
   "mimetype": "text/x-python",
   "name": "python",
   "nbconvert_exporter": "python",
   "pygments_lexer": "ipython2",
   "version": "2.7.9"
  }
 },
 "nbformat": 4,
 "nbformat_minor": 0
}
