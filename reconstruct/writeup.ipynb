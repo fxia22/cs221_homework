{
 "cells": [
  {
   "cell_type": "markdown",
   "metadata": {},
   "source": [
    "###1a\n",
    "Greedy algorithm is problematic because it does not minimize the future cost given a segmentation. e.g. 'yourflightisdelayed', and then say cost is as the following\n",
    "{'you':5, 'your':6, 'rf': 10, 'flight': 4, 'light': 4, 'is': 4, 'delay': 3}\n",
    "Then the algorithm will pick 'you' against 'your', the next word would be 'rf', since any other word doesn't start with 'rf'. As you finish the sentence, it becomes\n",
    "you rf light is delayed.\n",
    "with a total cost of 5 + 10 + 4 + 4 + 3 = 25\n",
    "which is higher than the optimal 5 + 4 + 4 + 3 = 15\n",
    "\n",
    "###2a\n",
    "Given this sentense\n",
    "th rt f fg\n",
    "\n",
    "And the following bigram cost\n",
    "{'the art': 5, 'the route': 4, 'art of': 2, 'route of': 10, 'of fugue': 2, 'of fog': 10}\n",
    "\n",
    "When the algorithm has picked 'the' as the first word, and pick the next one between 'the art' and 'the route', the immediate lowest cost is 'the route'.\n",
    "The only possible subsequent insertion is 'route of'.\n",
    "Keep going down, we pick 'of fugue'. Then the total bigram cost of this sensentence\n",
    "the route of fugue\n",
    "is 4 + 10 + 2 = 16\n",
    "but if 'the art' was picked first.\n",
    "the art of fugue\n",
    "only has a cost of 5 + 2 + 2 = 9\n",
    "\n",
    "###3a\n",
    "This problem can be formalized this way\n",
    "- state: (current index of characters scanned, previous word)\n",
    "- action: (the possible word that will be taken)\n",
    "- costs: bigram cost of the previous word with the current word(action)\n",
    "- initial state: (the starting index of 0, and the begin token)\n",
    "- goal test: the index of characters scanned equals the total length of query\n",
    "\n",
    "###3c\n",
    "To reduce the bigram cost into a unigram cost, and to allow further relaxation, we would want to reduce the edge cost for words. $ u(w) = \\min_{i} b(w_i, w) $ provides the lower bound of the bigram cost.\n",
    "\n",
    "Then to relax the problem of solving $b(w', w)$ can be computed using the heuristics of $h(w) = u(w)$. It is a consistent heuristic because\n",
    "1. At goal state, $u('')$ (empty string) can be defined with a cost of 0\n",
    "2. For the relaxed problem, $h(s)$ is reflecting the minimal cost of picking a word as a successor, which is gauranteed to be less than the original cost $b(w', w)$. So we know the heuristic is constrained to the relaxed problem, thus it's consistent. The new future cost would be $\\sum u(w)$ which is less than the actual cost $\\sum b(w,w)$ due to the pick of min function.\n",
    "\n"
   ]
  },
  {
   "cell_type": "code",
   "execution_count": null,
   "metadata": {
    "collapsed": true
   },
   "outputs": [],
   "source": []
  }
 ],
 "metadata": {
  "kernelspec": {
   "display_name": "Python 2",
   "language": "python",
   "name": "python2"
  },
  "language_info": {
   "codemirror_mode": {
    "name": "ipython",
    "version": 2
   },
   "file_extension": ".py",
   "mimetype": "text/x-python",
   "name": "python",
   "nbconvert_exporter": "python",
   "pygments_lexer": "ipython2",
   "version": "2.7.9"
  }
 },
 "nbformat": 4,
 "nbformat_minor": 0
}
