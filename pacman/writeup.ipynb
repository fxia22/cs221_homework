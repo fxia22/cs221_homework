{
 "cells": [
  {
   "cell_type": "markdown",
   "metadata": {},
   "source": [
    "## Problem 1\n",
    "### a.\n",
    "\n",
    "The opponent is minimizing the next agent's $V_{opt}$ in the next round, Assume the number of opponents is $n$\n",
    "\n",
    "$$ V_{opt}(s, d) = \\begin{cases} \n",
    "\\text{Utility}(s) & \\text{IsEnd}(s) \\\\ \n",
    "\\text{Eval}(s) & d = 0 \\\\ \n",
    "\\max_{a \\in \\text{Actions}(s)} V_{opt}(\\text{Succ}(s, a), d) & \\text{Player}(s) = \\text{agent} \\\\\n",
    "\\min_{a \\in \\text{Actions}(s)} V_{opt}(\\text{Succ}(s, a), d) & \\text{Player}(s) = \\text{opp}[k] \\\\ & \\{k \\in \\mathbb Z: 1 \\le k \\le (n-1) \\} \\\\\n",
    "\\min_{a \\in \\text{Actions}(s)} V_{opt}(\\text{Succ}(s, a), d-1) & \\text{Player}(s) = \\text{opp}[n]\n",
    "\\end{cases} $$"
   ]
  },
  {
   "cell_type": "markdown",
   "metadata": {
    "collapsed": true
   },
   "source": [
    "## Problem 3\n",
    "\n",
    "$$ V_{{opt},\\pi}(s, d) = \\begin{cases} \n",
    "\\text{Utility}(s) & \\text{IsEnd}(s) \\\\ \n",
    "\\text{Eval}(s) & d = 0 \\\\ \n",
    "\\max_{a \\in \\text{Actions}(s)} V_{{opt}, \\pi}(\\text{Succ}(s, a), d) & \\text{Player}(s) = \\text{agent} \\\\\n",
    "\\sum_{a \\in {Actions}(s)} \\pi_{opp}(s, a) V_{{opt},\\pi}({Succ}(s, a), d) & \\text{Player}(s) = \\text{opp}[k] \\\\ \n",
    "& \\{k \\in \\mathbb Z: 1 \\le k \\le (n-1) \\} \\\\\n",
    "\\sum_{a \\in {Actions}(s)} \\pi_{opp}(s, a) V_{{opt},\\pi}({Succ}(s, a), d-1) & \\text{Player}(s) = \\text{opp}[n]\n",
    "\\end{cases} $$"
   ]
  },
  {
   "cell_type": "code",
   "execution_count": null,
   "metadata": {
    "collapsed": true
   },
   "outputs": [],
   "source": []
  }
 ],
 "metadata": {
  "kernelspec": {
   "display_name": "Python 2",
   "language": "python",
   "name": "python2"
  },
  "language_info": {
   "codemirror_mode": {
    "name": "ipython",
    "version": 2
   },
   "file_extension": ".py",
   "mimetype": "text/x-python",
   "name": "python",
   "nbconvert_exporter": "python",
   "pygments_lexer": "ipython2",
   "version": "2.7.9"
  }
 },
 "nbformat": 4,
 "nbformat_minor": 0
}
