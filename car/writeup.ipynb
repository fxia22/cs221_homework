{
 "cells": [
  {
   "cell_type": "markdown",
   "metadata": {},
   "source": [
    "## Problem 1\n",
    "### a\n",
    "\n",
    "Using Bayer's inference.\n",
    "Factor graph $C_2 \\rightarrow D_2$ \n",
    "\n",
    "$ \\mathbb P(C_2 = 1 | D_2 = 0) = \\frac{ \\mathbb P(C_2=1) \\mathbb P(D_2=0|C_2=1)}{\\mathbb P(D_2=0|C_2=1) \\mathbb P(C_2=1)+ \\mathbb P(D_2=0|C_2=0) \\mathbb P(C_2=0)}$\n",
    "\n",
    "Where\n",
    "\n",
    "$ \\mathbb P(C_2=1) = \\mathbb P(C_2=1|C_1=0) \\mathbb P(C_1=0) + \\mathbb P(C_2=1|C_1=1) \\mathbb P(C_1=1) \\\\\n",
    "= 0.5\\epsilon + 0.5(1-\\epsilon) \\\\\n",
    "= 0.5$\n",
    "\n",
    "Then similarly $ \\mathbb P(C_2=0)  = 0.5$\n",
    "\n",
    "We can simplify the first equation into\n",
    "\n",
    "$ \\mathbb P(C_2 = 1 | D_2 = 0) = \\frac{ 0.5 \\eta } { 0.5\\eta + 0.5(1-\\eta)} \\\\\n",
    " = \\eta $\n",
    " \n",
    "### b\n",
    "Factor Graph\n",
    "```\n",
    "C_2 -> C_3 \n",
    " |      |\n",
    "D_2    D_3\n",
    "```\n",
    "\n",
    "$ \\mathbb P(C_2 = 1 | D_2 = 0, D_3=1) = \n",
    "\\frac{ \\mathbb P(C_2=1) \\mathbb P(D_2=0, D_3=1|C_2=1)}{\\mathbb P(D_2=0, D_3=1|C_2=1) \\mathbb P(C_2=1)+ \\mathbb P(D_2=0, D_3=1|C_2=0) \\mathbb P(C_2=0)}$\n",
    "\n",
    "Now focus on $\\mathbb P(D_2=0, D_3=1|C_2=c_2)$, where $c_2 \\in \\{0,1\\}$. \n",
    "\n",
    "Because $D_3$ and $D_2$ are independent\n",
    "\n",
    "$\\mathbb P(D_2=0, D_3=1|C_2=c) = \\mathbb P(D_2=0|C_2=c) \\mathbb P(D_3=1|C_2=c) $\n",
    "\n",
    "Where\n",
    "$ \\mathbb P(D_3=1|C_2=c) = \\mathbb P(D_3=1|C_2=c, C_3=0) + \\mathbb P(D_3=1|C_2=c, C_3=1)  \\\\\n",
    "= \\mathbb P(D_3=1|C_3=0) \\mathbb P(C_3=0|C_2=c) + \\mathbb P(D_3=1|C_3=1) \\mathbb P(C_3=1|C_2=c)$\n",
    "\n",
    "We can put in values:\n",
    "$ \\mathbb P(D_2=0, D_3=1|C_2=0) = \\mathbb P(D_2=0|C_2=0)\\mathbb P(D_3=1|C_2=0) \\\\\n",
    "= (1-\\eta)[(1-\\epsilon)\\eta + (1-\\eta)\\epsilon] $ \n",
    "\n",
    "$ \\mathbb P(D_2=0, D_3=1|C_2=1) = \\mathbb P(D_2=0|C_2=1)\\mathbb P(D_3=1|C_2=1) \\\\\n",
    " = \\eta [ \\epsilon\\eta + (1-\\epsilon)(1-\\eta) ] $\n",
    " \n",
    "$ \\mathbb P(C_2 = 1 | D_2 = 0, D_3=1) = \\frac{ 0.5 \\eta [ \\epsilon\\eta + (1-\\epsilon)(1-\\eta) ]  } {0.5 (1-\\eta)[(1-\\epsilon)\\eta + (1-\\eta)\\epsilon] + 0.5 \\eta [ \\epsilon\\eta + (1-\\epsilon)(1-\\eta) ]}$\n",
    "\n",
    "### c\n",
    "\n",
    "#### i.\n",
    "$ \\mathbb P(C_2 = 1 | D_2 = 0, D_3=1) = 0.4157 \\\\\n",
    " \\mathbb P(C_2 = 1 | D_2 = 0) = 0.2 $\n",
    "\n",
    "#### ii.\n",
    "Given $\\epsilon = 0.1$, the car is more likely to change position than staying at the same place. Adding the $D_3$ observation enhanced the probability of $C_3=1$, which enhanced the $C_2$.\n",
    "\n",
    "#### iii.\n",
    "\n",
    "$ \\epsilon = 0.5 $\n",
    "\n",
    "If the car is equally likely to move or not, observing the next position tells us nothing about the previous location. Thus these two value stays the same.\n",
    "\n"
   ]
  },
  {
   "cell_type": "markdown",
   "metadata": {
    "collapsed": true
   },
   "source": [
    "## Problem 5\n",
    "### a.\n",
    "\n",
    "Factor Graph is $ C_{11} \\rightarrow D_{11} \\rightarrow E_1 \\leftarrow D_{12} \\leftarrow C_{12} $\n",
    "We are conditioning on $E$, which means we can separate the two graphs\n",
    "\n",
    "$ \\mathbb P(C_{11}, C_{12} | E_{11} = e_1) = \\mathbb P(C_{11}=c_{11}, C_{12}=c_{12} | E_{11} = e_1) + \\mathbb P(C_{11}=c_{12}, C_{12}=c_{11} | E_{11} = e_1) $\n",
    "\n",
    "$\\propto 2 p(c_{11}) p_{\\mathcal N}(e_{11}; \\|a_1 - c_{11}\\|, \\sigma^2) p(c_{12}) p_{\\mathcal N}(e_{12}; \\|a_1 - c_{12}\\|, \\sigma^2)  $\n",
    "\n",
    "\n",
    "### b.\n",
    "\n",
    "Given number of location is K, and the number of cars is K. Assume there is one assignment of $C_k$ which obtain the maximum value. \n",
    "Now the same maximum value can be achieved through permutating the assignment order. \n",
    "Thus there exists at least $K!$ assignment which has the same maximum value./\n",
    "\n",
    "\n",
    "### c.\n",
    "\n"
   ]
  },
  {
   "cell_type": "code",
   "execution_count": null,
   "metadata": {
    "collapsed": true
   },
   "outputs": [],
   "source": []
  }
 ],
 "metadata": {
  "kernelspec": {
   "display_name": "Python 2",
   "language": "python",
   "name": "python2"
  },
  "language_info": {
   "codemirror_mode": {
    "name": "ipython",
    "version": 2
   },
   "file_extension": ".py",
   "mimetype": "text/x-python",
   "name": "python",
   "nbconvert_exporter": "python",
   "pygments_lexer": "ipython2",
   "version": "2.7.9"
  }
 },
 "nbformat": 4,
 "nbformat_minor": 0
}
